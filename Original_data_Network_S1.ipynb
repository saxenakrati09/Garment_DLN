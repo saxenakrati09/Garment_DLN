{
 "cells": [
  {
   "cell_type": "code",
   "execution_count": 1,
   "metadata": {},
   "outputs": [
    {
     "name": "stderr",
     "output_type": "stream",
     "text": [
      "/home/krati/anaconda3/lib/python3.6/site-packages/h5py/__init__.py:36: FutureWarning: Conversion of the second argument of issubdtype from `float` to `np.floating` is deprecated. In future, it will be treated as `np.float64 == np.dtype(float).type`.\n",
      "  from ._conv import register_converters as _register_converters\n",
      "Using TensorFlow backend.\n"
     ]
    }
   ],
   "source": [
    "import keras\n",
    "from keras import models\n",
    "from keras import layers\n",
    "from keras import optimizers\n",
    "from keras.preprocessing.image import img_to_array\n",
    "from keras import regularizers"
   ]
  },
  {
   "cell_type": "markdown",
   "metadata": {},
   "source": [
    "# Load the Data"
   ]
  },
  {
   "cell_type": "code",
   "execution_count": 2,
   "metadata": {},
   "outputs": [],
   "source": [
    "import os\n",
    "import numpy as np\n",
    "import cv2\n",
    "import glob\n",
    "import pandas as pd\n",
    "import matplotlib.pyplot as plt\n",
    "%matplotlib inline\n",
    "from sklearn.preprocessing import scale"
   ]
  },
  {
   "cell_type": "code",
   "execution_count": 3,
   "metadata": {},
   "outputs": [
    {
     "data": {
      "text/plain": [
       "'/NASmount/Research Data/Krati/Grasp_point_detection'"
      ]
     },
     "execution_count": 3,
     "metadata": {},
     "output_type": "execute_result"
    }
   ],
   "source": [
    "original_dataset_dir = \"/NASmount/Research Data/Krati/Grasp_point_detection\"\n",
    "os.chdir(original_dataset_dir)\n",
    "os.getcwd()"
   ]
  },
  {
   "cell_type": "code",
   "execution_count": 4,
   "metadata": {},
   "outputs": [],
   "source": [
    "train_dir = os.path.join(original_dataset_dir, \"Real_data_grasp_point/Sleeveless_Real_Regression/train\")\n",
    "\n",
    "test_dir = os.path.join(original_dataset_dir, \"Real_data_grasp_point/Sleeveless_Real_Regression/test\")"
   ]
  },
  {
   "cell_type": "code",
   "execution_count": 5,
   "metadata": {},
   "outputs": [],
   "source": [
    "train_img = []\n",
    "for img in sorted(glob.glob(train_dir+\"/*Sleeveless_*.png\")):\n",
    "    n = cv2.imread(img, 0)\n",
    "    #n = scale( n, axis=0, with_mean=True, with_std=True, copy=True )\n",
    "    #n.flatten()\n",
    "    n = img_to_array(n)\n",
    "    train_img.append(n)\n",
    "pa = train_dir+\"/*.png\"\n",
    "train_names = [os.path.basename(x) for x in glob.glob(pa)]\n",
    "train_names = sorted(train_names)"
   ]
  },
  {
   "cell_type": "code",
   "execution_count": 6,
   "metadata": {},
   "outputs": [
    {
     "data": {
      "text/plain": [
       "['1_Sleeveless_0_1.png',\n",
       " '1_Sleeveless_0_10.png',\n",
       " '1_Sleeveless_0_11.png',\n",
       " '1_Sleeveless_0_12.png',\n",
       " '1_Sleeveless_0_13.png',\n",
       " '1_Sleeveless_0_14.png',\n",
       " '1_Sleeveless_0_15.png',\n",
       " '1_Sleeveless_0_16.png',\n",
       " '1_Sleeveless_0_17.png',\n",
       " '1_Sleeveless_0_18.png',\n",
       " '1_Sleeveless_0_19.png',\n",
       " '1_Sleeveless_0_2.png',\n",
       " '1_Sleeveless_0_20.png',\n",
       " '1_Sleeveless_0_21.png',\n",
       " '1_Sleeveless_0_22.png']"
      ]
     },
     "execution_count": 6,
     "metadata": {},
     "output_type": "execute_result"
    }
   ],
   "source": [
    "train_names[:15]"
   ]
  },
  {
   "cell_type": "code",
   "execution_count": 7,
   "metadata": {},
   "outputs": [],
   "source": [
    "test_img = []\n",
    "for img in sorted(glob.glob(test_dir+\"/*_depth.png\")):\n",
    "    n = cv2.imread(img, 0)\n",
    "    #n = scale( n, axis=0, with_mean=True, with_std=True, copy=True )\n",
    "    #n.flatten()\n",
    "    n = img_to_array(n)\n",
    "    test_img.append(n)\n",
    "pa = test_dir+\"/*.png\"\n",
    "test_names = [os.path.basename(x) for x in glob.glob(pa)]\n",
    "test_names = sorted(test_names)"
   ]
  },
  {
   "cell_type": "code",
   "execution_count": 8,
   "metadata": {},
   "outputs": [
    {
     "data": {
      "text/plain": [
       "['0000_depth.png',\n",
       " '0001_depth.png',\n",
       " '0002_depth.png',\n",
       " '0003_depth.png',\n",
       " '0004_depth.png',\n",
       " '0005_depth.png',\n",
       " '0006_depth.png',\n",
       " '0007_depth.png',\n",
       " '0008_depth.png',\n",
       " '0009_depth.png',\n",
       " '0010_depth.png',\n",
       " '0011_depth.png',\n",
       " '0012_depth.png',\n",
       " '0013_depth.png',\n",
       " '0014_depth.png']"
      ]
     },
     "execution_count": 8,
     "metadata": {},
     "output_type": "execute_result"
    }
   ],
   "source": [
    "test_names[:15]"
   ]
  },
  {
   "cell_type": "code",
   "execution_count": 9,
   "metadata": {},
   "outputs": [
    {
     "data": {
      "text/plain": [
       "(250, 200)"
      ]
     },
     "execution_count": 9,
     "metadata": {},
     "output_type": "execute_result"
    }
   ],
   "source": [
    "for i in range(len(test_img)):\n",
    "    test_img[i] = test_img[i].reshape((250,200))\n",
    "test_img[1].shape"
   ]
  },
  {
   "cell_type": "code",
   "execution_count": 10,
   "metadata": {},
   "outputs": [
    {
     "data": {
      "text/plain": [
       "(250, 200)"
      ]
     },
     "execution_count": 10,
     "metadata": {},
     "output_type": "execute_result"
    }
   ],
   "source": [
    "for i in range(len(train_img)):\n",
    "    train_img[i] = train_img[i].reshape((250,200))\n",
    "train_img[1].shape"
   ]
  },
  {
   "cell_type": "code",
   "execution_count": 11,
   "metadata": {},
   "outputs": [
    {
     "name": "stdout",
     "output_type": "stream",
     "text": [
      "<class 'numpy.ndarray'>\n",
      "(36720, 250)\n"
     ]
    }
   ],
   "source": [
    "train = pd.DataFrame.from_records(train_img)\n",
    "train = train.values\n",
    "print(type(train))\n",
    "print(train.shape)"
   ]
  },
  {
   "cell_type": "code",
   "execution_count": 12,
   "metadata": {},
   "outputs": [
    {
     "name": "stdout",
     "output_type": "stream",
     "text": [
      "<class 'numpy.ndarray'>\n",
      "(7141, 250)\n"
     ]
    }
   ],
   "source": [
    "test = pd.DataFrame.from_records(test_img)\n",
    "test = test.values\n",
    "print(type(test))\n",
    "print(test.shape)"
   ]
  },
  {
   "cell_type": "code",
   "execution_count": 13,
   "metadata": {},
   "outputs": [
    {
     "name": "stdout",
     "output_type": "stream",
     "text": [
      "(1785250,) (9180000,)\n"
     ]
    }
   ],
   "source": [
    "test = test.flatten()\n",
    "train = train.flatten()\n",
    "print(test.shape, train.shape)"
   ]
  },
  {
   "cell_type": "markdown",
   "metadata": {},
   "source": [
    "### Get train labels"
   ]
  },
  {
   "cell_type": "code",
   "execution_count": 19,
   "metadata": {},
   "outputs": [],
   "source": [
    "train_labels = pd.read_csv(\"Real_data_grasp_point/Sleeveless_Real_Regression/train_labels.csv\", header=None)"
   ]
  },
  {
   "cell_type": "code",
   "execution_count": 20,
   "metadata": {},
   "outputs": [
    {
     "name": "stdout",
     "output_type": "stream",
     "text": [
      "36720 7141\n"
     ]
    }
   ],
   "source": [
    "print(len(train_img), len(test_img))"
   ]
  },
  {
   "cell_type": "code",
   "execution_count": 21,
   "metadata": {},
   "outputs": [
    {
     "name": "stdout",
     "output_type": "stream",
     "text": [
      "(36720, 6)\n"
     ]
    }
   ],
   "source": [
    "print(train_labels.shape)"
   ]
  },
  {
   "cell_type": "code",
   "execution_count": 22,
   "metadata": {},
   "outputs": [],
   "source": [
    "## get label values\n",
    "train_values = train_labels.values"
   ]
  },
  {
   "cell_type": "code",
   "execution_count": 23,
   "metadata": {},
   "outputs": [
    {
     "name": "stdout",
     "output_type": "stream",
     "text": [
      "<class 'numpy.ndarray'>\n"
     ]
    }
   ],
   "source": [
    "print(type(train_values))"
   ]
  },
  {
   "cell_type": "code",
   "execution_count": 24,
   "metadata": {},
   "outputs": [],
   "source": [
    "def read_and_normalize_train_data(train_data, train_target):\n",
    "    train_data = np.array(train_data, dtype=np.float32)\n",
    "    train_target = np.array(train_target, dtype=np.float32)\n",
    "    m = train_data.mean()\n",
    "    s = train_data.std()\n",
    "\n",
    "    print ('Train mean, sd:', m, s )\n",
    "    train_data -= m\n",
    "    train_data /= s\n",
    "    print('Train shape:', train_data.shape)\n",
    "    print(train_data.shape[0], 'train samples')\n",
    "    return train_data, train_target"
   ]
  },
  {
   "cell_type": "code",
   "execution_count": 25,
   "metadata": {},
   "outputs": [],
   "source": [
    "def make_data(labels, img_list):\n",
    "    X_train = []\n",
    "    y_train = []\n",
    "    print('Read images')\n",
    "    for index, row in labels.iterrows():\n",
    "        img = img_list[index].astype(np.float32)\n",
    "        X_train.append(img)\n",
    "        y_train.append([row.values])\n",
    "    return X_train, y_train"
   ]
  },
  {
   "cell_type": "code",
   "execution_count": 26,
   "metadata": {},
   "outputs": [
    {
     "name": "stdout",
     "output_type": "stream",
     "text": [
      "Read images\n"
     ]
    }
   ],
   "source": [
    "X_train, y_train = make_data(train_labels, train_img)"
   ]
  },
  {
   "cell_type": "code",
   "execution_count": 27,
   "metadata": {},
   "outputs": [
    {
     "name": "stdout",
     "output_type": "stream",
     "text": [
      "Train mean, sd: 33.182964 79.715096\n",
      "Train shape: (36720, 250, 200)\n",
      "36720 train samples\n"
     ]
    }
   ],
   "source": [
    "X_train, y_train = read_and_normalize_train_data(X_train, y_train)"
   ]
  },
  {
   "cell_type": "markdown",
   "metadata": {},
   "source": [
    "# CNN Models"
   ]
  },
  {
   "cell_type": "code",
   "execution_count": 28,
   "metadata": {},
   "outputs": [],
   "source": [
    "def build_model2():\n",
    "    model = models.Sequential()\n",
    "    model.add(layers.Dense(512, activation = 'relu', input_shape=(None,200)))\n",
    "    model.add(layers.Dense(128, activation = 'relu'))\n",
    "    model.add(layers.Dense(128, activation = 'relu'))\n",
    "    model.add(layers.Dense(64, activation = 'relu'))\n",
    "    model.add(layers.Dense(64, activation = 'relu'))\n",
    "    model.add(layers.Dense(6))\n",
    "    model.compile(optimizer='rmsprop',\n",
    "                 loss='mse',\n",
    "                 metrics=['mae'])\n",
    "    return model"
   ]
  },
  {
   "cell_type": "code",
   "execution_count": 29,
   "metadata": {},
   "outputs": [
    {
     "name": "stdout",
     "output_type": "stream",
     "text": [
      "WARNING:tensorflow:From /home/krati/anaconda3/lib/python3.6/site-packages/keras/backend/tensorflow_backend.py:1340: calling reduce_mean (from tensorflow.python.ops.math_ops) with keep_dims is deprecated and will be removed in a future version.\n",
      "Instructions for updating:\n",
      "keep_dims is deprecated, use keepdims instead\n",
      "_________________________________________________________________\n",
      "Layer (type)                 Output Shape              Param #   \n",
      "=================================================================\n",
      "dense_1 (Dense)              (None, None, 512)         102912    \n",
      "_________________________________________________________________\n",
      "dense_2 (Dense)              (None, None, 128)         65664     \n",
      "_________________________________________________________________\n",
      "dense_3 (Dense)              (None, None, 128)         16512     \n",
      "_________________________________________________________________\n",
      "dense_4 (Dense)              (None, None, 64)          8256      \n",
      "_________________________________________________________________\n",
      "dense_5 (Dense)              (None, None, 64)          4160      \n",
      "_________________________________________________________________\n",
      "dense_6 (Dense)              (None, None, 6)           390       \n",
      "=================================================================\n",
      "Total params: 197,894\n",
      "Trainable params: 197,894\n",
      "Non-trainable params: 0\n",
      "_________________________________________________________________\n"
     ]
    }
   ],
   "source": [
    "model = build_model2()\n",
    "model.summary()"
   ]
  },
  {
   "cell_type": "code",
   "execution_count": 30,
   "metadata": {},
   "outputs": [
    {
     "name": "stdout",
     "output_type": "stream",
     "text": [
      "Epoch 1/30\n",
      "36720/36720 [==============================] - 87s 2ms/step - loss: 0.0935 - mean_absolute_error: 0.2077\n",
      "Epoch 2/30\n",
      "36720/36720 [==============================] - 84s 2ms/step - loss: 0.0908 - mean_absolute_error: 0.2024\n",
      "Epoch 3/30\n",
      "36720/36720 [==============================] - 83s 2ms/step - loss: 0.0906 - mean_absolute_error: 0.2018\n",
      "Epoch 4/30\n",
      "36720/36720 [==============================] - 84s 2ms/step - loss: 0.0904 - mean_absolute_error: 0.2013\n",
      "Epoch 5/30\n",
      "36720/36720 [==============================] - 84s 2ms/step - loss: 0.0902 - mean_absolute_error: 0.2010\n",
      "Epoch 6/30\n",
      "36720/36720 [==============================] - 84s 2ms/step - loss: 0.0902 - mean_absolute_error: 0.2010\n",
      "Epoch 7/30\n",
      "36720/36720 [==============================] - 85s 2ms/step - loss: 0.0902 - mean_absolute_error: 0.2011\n",
      "Epoch 8/30\n",
      "36720/36720 [==============================] - 85s 2ms/step - loss: 0.0902 - mean_absolute_error: 0.2010\n",
      "Epoch 9/30\n",
      "36720/36720 [==============================] - 86s 2ms/step - loss: 0.0902 - mean_absolute_error: 0.2009\n",
      "Epoch 10/30\n",
      "36720/36720 [==============================] - 85s 2ms/step - loss: 0.0902 - mean_absolute_error: 0.2010\n",
      "Epoch 11/30\n",
      "36720/36720 [==============================] - 86s 2ms/step - loss: 0.0901 - mean_absolute_error: 0.2009\n",
      "Epoch 12/30\n",
      "36720/36720 [==============================] - 86s 2ms/step - loss: 0.0901 - mean_absolute_error: 0.2009\n",
      "Epoch 13/30\n",
      "36720/36720 [==============================] - 86s 2ms/step - loss: 0.0901 - mean_absolute_error: 0.2008\n",
      "Epoch 14/30\n",
      "36720/36720 [==============================] - 85s 2ms/step - loss: 0.0901 - mean_absolute_error: 0.2008\n",
      "Epoch 15/30\n",
      "36720/36720 [==============================] - 86s 2ms/step - loss: 0.0900 - mean_absolute_error: 0.2007\n",
      "Epoch 16/30\n",
      "36720/36720 [==============================] - 86s 2ms/step - loss: 0.0900 - mean_absolute_error: 0.2006\n",
      "Epoch 17/30\n",
      "36720/36720 [==============================] - 86s 2ms/step - loss: 0.0900 - mean_absolute_error: 0.2006\n",
      "Epoch 18/30\n",
      "36720/36720 [==============================] - 85s 2ms/step - loss: 0.0900 - mean_absolute_error: 0.2007\n",
      "Epoch 19/30\n",
      "36720/36720 [==============================] - 86s 2ms/step - loss: 0.0900 - mean_absolute_error: 0.2005\n",
      "Epoch 20/30\n",
      "36720/36720 [==============================] - 86s 2ms/step - loss: 0.0900 - mean_absolute_error: 0.2006\n",
      "Epoch 21/30\n",
      "36720/36720 [==============================] - 86s 2ms/step - loss: 0.0900 - mean_absolute_error: 0.2005\n",
      "Epoch 22/30\n",
      "36720/36720 [==============================] - 86s 2ms/step - loss: 0.0899 - mean_absolute_error: 0.2004\n",
      "Epoch 23/30\n",
      "36720/36720 [==============================] - 87s 2ms/step - loss: 0.0899 - mean_absolute_error: 0.2004\n",
      "Epoch 24/30\n",
      "36720/36720 [==============================] - 86s 2ms/step - loss: 0.0899 - mean_absolute_error: 0.2004\n",
      "Epoch 25/30\n",
      "36720/36720 [==============================] - 86s 2ms/step - loss: 0.0899 - mean_absolute_error: 0.2004\n",
      "Epoch 26/30\n",
      "36720/36720 [==============================] - 85s 2ms/step - loss: 0.0900 - mean_absolute_error: 0.2006\n",
      "Epoch 27/30\n",
      "36720/36720 [==============================] - 87s 2ms/step - loss: 0.0900 - mean_absolute_error: 0.2005\n",
      "Epoch 28/30\n",
      "36720/36720 [==============================] - 86s 2ms/step - loss: 0.0900 - mean_absolute_error: 0.2005\n",
      "Epoch 29/30\n",
      "36720/36720 [==============================] - 86s 2ms/step - loss: 0.0899 - mean_absolute_error: 0.2004\n",
      "Epoch 30/30\n",
      "36720/36720 [==============================] - 86s 2ms/step - loss: 0.0899 - mean_absolute_error: 0.2005\n"
     ]
    }
   ],
   "source": [
    "history3 = model.fit(X_train, y_train,\n",
    "          batch_size=16, epochs=30)"
   ]
  },
  {
   "cell_type": "code",
   "execution_count": 31,
   "metadata": {},
   "outputs": [],
   "source": [
    "model.save(\"S_orig_512_128_128_64_64_5layers.h5\")"
   ]
  },
  {
   "cell_type": "code",
   "execution_count": 32,
   "metadata": {},
   "outputs": [
    {
     "data": {
      "image/png": "[encoded data removed]",
      "text/plain": [
       "<matplotlib.figure.Figure at 0x7f5fb405e5c0>"
      ]
     },
     "metadata": {},
     "output_type": "display_data"
    },
    {
     "data": {
      "image/png": "[encoded data removed]",
      "text/plain": [
       "<matplotlib.figure.Figure at 0x7f5fb40b2978>"
      ]
     },
     "metadata": {},
     "output_type": "display_data"
    }
   ],
   "source": [
    "%matplotlib inline\n",
    "import matplotlib.pyplot as plt\n",
    "mae = history3.history['mean_absolute_error']\n",
    "#val_mae = history3.history['val_mean_absolute_error']\n",
    "loss = history3.history['loss']\n",
    "#val_loss = history3.history['val_loss']\n",
    "epochs = range(1, len(mae) + 1)\n",
    "\n",
    "plt.plot(epochs, mae, 'bo', label='Training mae')\n",
    "#plt.plot(epochs, val_mae, 'b', label='Validation mae')\n",
    "plt.title('Training MAE')\n",
    "plt.legend()\n",
    "plt.figure()\n",
    "\n",
    "plt.plot(epochs, loss, 'bo', label='Training loss')\n",
    "#plt.plot(epochs, val_loss, 'b', label='Validation loss')\n",
    "plt.title('Training loss')\n",
    "plt.legend()\n",
    "plt.show()"
   ]
  },
  {
   "cell_type": "code",
   "execution_count": 33,
   "metadata": {},
   "outputs": [],
   "source": [
    "def build_model():\n",
    "    model = models.Sequential()\n",
    "    model.add(layers.Dense(32, activation = 'relu', input_shape=(None,200)))\n",
    "    model.add(layers.Dense(32, activation = 'relu'))\n",
    "    model.add(layers.Dense(32, activation = 'relu'))\n",
    "    model.add(layers.Dense(6))\n",
    "    model.compile(optimizer='rmsprop',\n",
    "                 loss='mse',\n",
    "                 metrics=['mae'])\n",
    "    return model"
   ]
  },
  {
   "cell_type": "code",
   "execution_count": 34,
   "metadata": {},
   "outputs": [
    {
     "name": "stdout",
     "output_type": "stream",
     "text": [
      "_________________________________________________________________\n",
      "Layer (type)                 Output Shape              Param #   \n",
      "=================================================================\n",
      "dense_7 (Dense)              (None, None, 32)          6432      \n",
      "_________________________________________________________________\n",
      "dense_8 (Dense)              (None, None, 32)          1056      \n",
      "_________________________________________________________________\n",
      "dense_9 (Dense)              (None, None, 32)          1056      \n",
      "_________________________________________________________________\n",
      "dense_10 (Dense)             (None, None, 6)           198       \n",
      "=================================================================\n",
      "Total params: 8,742\n",
      "Trainable params: 8,742\n",
      "Non-trainable params: 0\n",
      "_________________________________________________________________\n"
     ]
    }
   ],
   "source": [
    "model = build_model()\n",
    "model.summary()"
   ]
  },
  {
   "cell_type": "code",
   "execution_count": 35,
   "metadata": {},
   "outputs": [
    {
     "name": "stdout",
     "output_type": "stream",
     "text": [
      "Epoch 1/30\n",
      "36720/36720 [==============================] - 23s 632us/step - loss: 0.0943 - mean_absolute_error: 0.2084\n",
      "Epoch 2/30\n",
      "36720/36720 [==============================] - 23s 631us/step - loss: 0.0914 - mean_absolute_error: 0.2036\n",
      "Epoch 3/30\n",
      "36720/36720 [==============================] - 23s 625us/step - loss: 0.0910 - mean_absolute_error: 0.2027\n",
      "Epoch 4/30\n",
      "36720/36720 [==============================] - 23s 621us/step - loss: 0.0907 - mean_absolute_error: 0.2021\n",
      "Epoch 5/30\n",
      "36720/36720 [==============================] - 23s 618us/step - loss: 0.0905 - mean_absolute_error: 0.2018\n",
      "Epoch 6/30\n",
      "36720/36720 [==============================] - 23s 639us/step - loss: 0.0905 - mean_absolute_error: 0.2016\n",
      "Epoch 7/30\n",
      "36720/36720 [==============================] - 23s 618us/step - loss: 0.0904 - mean_absolute_error: 0.2013\n",
      "Epoch 8/30\n",
      "36720/36720 [==============================] - 23s 631us/step - loss: 0.0903 - mean_absolute_error: 0.2012\n",
      "Epoch 9/30\n",
      "36720/36720 [==============================] - 23s 617us/step - loss: 0.0903 - mean_absolute_error: 0.2012\n",
      "Epoch 10/30\n",
      "36720/36720 [==============================] - 23s 625us/step - loss: 0.0902 - mean_absolute_error: 0.2010\n",
      "Epoch 11/30\n",
      "36720/36720 [==============================] - 23s 621us/step - loss: 0.0902 - mean_absolute_error: 0.2009\n",
      "Epoch 12/30\n",
      "36720/36720 [==============================] - 23s 639us/step - loss: 0.0901 - mean_absolute_error: 0.2009\n",
      "Epoch 13/30\n",
      "36720/36720 [==============================] - 24s 651us/step - loss: 0.0901 - mean_absolute_error: 0.2008\n",
      "Epoch 14/30\n",
      "36720/36720 [==============================] - 24s 654us/step - loss: 0.0901 - mean_absolute_error: 0.2008\n",
      "Epoch 15/30\n",
      "36720/36720 [==============================] - 25s 667us/step - loss: 0.0901 - mean_absolute_error: 0.2007\n",
      "Epoch 16/30\n",
      "36720/36720 [==============================] - 24s 660us/step - loss: 0.0900 - mean_absolute_error: 0.2006\n",
      "Epoch 17/30\n",
      "36720/36720 [==============================] - 23s 630us/step - loss: 0.0900 - mean_absolute_error: 0.2005\n",
      "Epoch 18/30\n",
      "36720/36720 [==============================] - 23s 640us/step - loss: 0.0900 - mean_absolute_error: 0.2006\n",
      "Epoch 19/30\n",
      "36720/36720 [==============================] - 22s 608us/step - loss: 0.0900 - mean_absolute_error: 0.2006\n",
      "Epoch 20/30\n",
      "36720/36720 [==============================] - 23s 621us/step - loss: 0.0900 - mean_absolute_error: 0.2006\n",
      "Epoch 21/30\n",
      "36720/36720 [==============================] - 22s 612us/step - loss: 0.0900 - mean_absolute_error: 0.2005\n",
      "Epoch 22/30\n",
      "36720/36720 [==============================] - 23s 625us/step - loss: 0.0899 - mean_absolute_error: 0.2004\n",
      "Epoch 23/30\n",
      "36720/36720 [==============================] - 23s 614us/step - loss: 0.0899 - mean_absolute_error: 0.2004\n",
      "Epoch 24/30\n",
      "36720/36720 [==============================] - 23s 614us/step - loss: 0.0899 - mean_absolute_error: 0.2004\n",
      "Epoch 25/30\n",
      "36720/36720 [==============================] - 23s 621us/step - loss: 0.0899 - mean_absolute_error: 0.2004\n",
      "Epoch 26/30\n",
      "36720/36720 [==============================] - 23s 615us/step - loss: 0.0899 - mean_absolute_error: 0.2004\n",
      "Epoch 27/30\n",
      "36720/36720 [==============================] - 23s 636us/step - loss: 0.0899 - mean_absolute_error: 0.2003\n",
      "Epoch 28/30\n",
      "36720/36720 [==============================] - 23s 631us/step - loss: 0.0899 - mean_absolute_error: 0.2003\n",
      "Epoch 29/30\n",
      "36720/36720 [==============================] - 23s 621us/step - loss: 0.0898 - mean_absolute_error: 0.2002\n",
      "Epoch 30/30\n",
      "36720/36720 [==============================] - 23s 624us/step - loss: 0.0898 - mean_absolute_error: 0.2002\n"
     ]
    }
   ],
   "source": [
    "history = model.fit(X_train, y_train,\n",
    "          batch_size=16, epochs=30)"
   ]
  },
  {
   "cell_type": "code",
   "execution_count": 36,
   "metadata": {},
   "outputs": [],
   "source": [
    "model.save(\"S_orig_32_3layers.h5\")"
   ]
  },
  {
   "cell_type": "code",
   "execution_count": 37,
   "metadata": {},
   "outputs": [
    {
     "data": {
      "image/png": "[encoded data removed]",
      "text/plain": [
       "<matplotlib.figure.Figure at 0x7f5d107b3cf8>"
      ]
     },
     "metadata": {},
     "output_type": "display_data"
    },
    {
     "data": {
      "image/png": "[encoded data removed]",
      "text/plain": [
       "<matplotlib.figure.Figure at 0x7f5d107b3cc0>"
      ]
     },
     "metadata": {},
     "output_type": "display_data"
    }
   ],
   "source": [
    "mae = history.history['mean_absolute_error']\n",
    "#val_mae = history.history['val_mean_absolute_error']\n",
    "loss = history.history['loss']\n",
    "#val_loss = history.history['val_loss']\n",
    "epochs = range(1, len(mae) + 1)\n",
    "\n",
    "plt.plot(epochs, mae, 'bo', label='Training acc')\n",
    "#plt.plot(epochs, val_mae, 'b', label='Validation acc')\n",
    "plt.title('Training accuracy')\n",
    "plt.legend()\n",
    "plt.figure()\n",
    "\n",
    "plt.plot(epochs, loss, 'bo', label='Training loss')\n",
    "#plt.plot(epochs, val_loss, 'b', label='Validation loss')\n",
    "plt.title('Training loss')\n",
    "plt.legend()\n",
    "plt.show()"
   ]
  },
  {
   "cell_type": "code",
   "execution_count": 38,
   "metadata": {},
   "outputs": [],
   "source": [
    "def build_model4():\n",
    "    model = models.Sequential()\n",
    "    model.add(layers.Dense(32, activation = 'relu', input_shape=(None,200)))\n",
    "    model.add(layers.Dropout(0.3))\n",
    "    model.add(layers.Dense(32, activation = 'relu'))\n",
    "    model.add(layers.Dropout(0.3))\n",
    "    model.add(layers.Dense(32, activation = 'relu'))\n",
    "    model.add(layers.Dropout(0.3))\n",
    "    model.add(layers.Dense(32, activation = 'relu'))\n",
    "    \n",
    "    model.add(layers.Dense(6))\n",
    "    model.compile(optimizer='rmsprop',\n",
    "                 loss='mse',\n",
    "                 metrics=['mae'])\n",
    "    return model"
   ]
  },
  {
   "cell_type": "code",
   "execution_count": 39,
   "metadata": {},
   "outputs": [
    {
     "name": "stdout",
     "output_type": "stream",
     "text": [
      "_________________________________________________________________\n",
      "Layer (type)                 Output Shape              Param #   \n",
      "=================================================================\n",
      "dense_11 (Dense)             (None, None, 32)          6432      \n",
      "_________________________________________________________________\n",
      "dropout_1 (Dropout)          (None, None, 32)          0         \n",
      "_________________________________________________________________\n",
      "dense_12 (Dense)             (None, None, 32)          1056      \n",
      "_________________________________________________________________\n",
      "dropout_2 (Dropout)          (None, None, 32)          0         \n",
      "_________________________________________________________________\n",
      "dense_13 (Dense)             (None, None, 32)          1056      \n",
      "_________________________________________________________________\n",
      "dropout_3 (Dropout)          (None, None, 32)          0         \n",
      "_________________________________________________________________\n",
      "dense_14 (Dense)             (None, None, 32)          1056      \n",
      "_________________________________________________________________\n",
      "dense_15 (Dense)             (None, None, 6)           198       \n",
      "=================================================================\n",
      "Total params: 9,798\n",
      "Trainable params: 9,798\n",
      "Non-trainable params: 0\n",
      "_________________________________________________________________\n"
     ]
    }
   ],
   "source": [
    "model = build_model4()\n",
    "model.summary()"
   ]
  },
  {
   "cell_type": "code",
   "execution_count": 40,
   "metadata": {},
   "outputs": [
    {
     "name": "stdout",
     "output_type": "stream",
     "text": [
      "Epoch 1/30\n",
      "36720/36720 [==============================] - 20s 544us/step - loss: 0.1213 - mean_absolute_error: 0.2475\n",
      "Epoch 2/30\n",
      "36720/36720 [==============================] - 19s 513us/step - loss: 0.0923 - mean_absolute_error: 0.2056\n",
      "Epoch 3/30\n",
      "36720/36720 [==============================] - 19s 508us/step - loss: 0.0914 - mean_absolute_error: 0.2035\n",
      "Epoch 4/30\n",
      "36720/36720 [==============================] - 19s 506us/step - loss: 0.0911 - mean_absolute_error: 0.2029\n",
      "Epoch 5/30\n",
      "36720/36720 [==============================] - 19s 529us/step - loss: 0.0910 - mean_absolute_error: 0.2025\n",
      "Epoch 6/30\n",
      "36720/36720 [==============================] - 20s 552us/step - loss: 0.0909 - mean_absolute_error: 0.2022\n",
      "Epoch 7/30\n",
      "36720/36720 [==============================] - 19s 506us/step - loss: 0.0908 - mean_absolute_error: 0.2021\n",
      "Epoch 8/30\n",
      "36720/36720 [==============================] - 19s 513us/step - loss: 0.0907 - mean_absolute_error: 0.2019\n",
      "Epoch 9/30\n",
      "36720/36720 [==============================] - 19s 530us/step - loss: 0.0907 - mean_absolute_error: 0.2020\n",
      "Epoch 10/30\n",
      "36720/36720 [==============================] - 19s 505us/step - loss: 0.0906 - mean_absolute_error: 0.2018\n",
      "Epoch 11/30\n",
      "36720/36720 [==============================] - 19s 515us/step - loss: 0.0906 - mean_absolute_error: 0.2017\n",
      "Epoch 12/30\n",
      "36720/36720 [==============================] - 19s 514us/step - loss: 0.0906 - mean_absolute_error: 0.2016\n",
      "Epoch 13/30\n",
      "36720/36720 [==============================] - 19s 510us/step - loss: 0.0905 - mean_absolute_error: 0.2017\n",
      "Epoch 14/30\n",
      "36720/36720 [==============================] - 21s 560us/step - loss: 0.0905 - mean_absolute_error: 0.2015\n",
      "Epoch 15/30\n",
      "36720/36720 [==============================] - 19s 508us/step - loss: 0.0905 - mean_absolute_error: 0.2016\n",
      "Epoch 16/30\n",
      "36720/36720 [==============================] - 19s 515us/step - loss: 0.0905 - mean_absolute_error: 0.2015\n",
      "Epoch 17/30\n",
      "36720/36720 [==============================] - 18s 503us/step - loss: 0.0904 - mean_absolute_error: 0.2013\n",
      "Epoch 18/30\n",
      "36720/36720 [==============================] - 20s 544us/step - loss: 0.0904 - mean_absolute_error: 0.2014\n",
      "Epoch 19/30\n",
      "36720/36720 [==============================] - 19s 518us/step - loss: 0.0904 - mean_absolute_error: 0.2015\n",
      "Epoch 20/30\n",
      "36720/36720 [==============================] - 19s 518us/step - loss: 0.0904 - mean_absolute_error: 0.2014\n",
      "Epoch 21/30\n",
      "36720/36720 [==============================] - 20s 536us/step - loss: 0.0904 - mean_absolute_error: 0.2014\n",
      "Epoch 22/30\n",
      "36720/36720 [==============================] - 19s 522us/step - loss: 0.0904 - mean_absolute_error: 0.2013\n",
      "Epoch 23/30\n",
      "36720/36720 [==============================] - 19s 517us/step - loss: 0.0904 - mean_absolute_error: 0.2014\n",
      "Epoch 24/30\n",
      "36720/36720 [==============================] - 19s 509us/step - loss: 0.0904 - mean_absolute_error: 0.2014\n",
      "Epoch 25/30\n",
      "36720/36720 [==============================] - 19s 515us/step - loss: 0.0904 - mean_absolute_error: 0.2012\n",
      "Epoch 26/30\n",
      "36720/36720 [==============================] - 19s 509us/step - loss: 0.0904 - mean_absolute_error: 0.2014\n",
      "Epoch 27/30\n",
      "36720/36720 [==============================] - 19s 526us/step - loss: 0.0903 - mean_absolute_error: 0.2013\n",
      "Epoch 28/30\n",
      "36720/36720 [==============================] - 19s 520us/step - loss: 0.0903 - mean_absolute_error: 0.2013\n",
      "Epoch 29/30\n",
      "36720/36720 [==============================] - 19s 506us/step - loss: 0.0904 - mean_absolute_error: 0.2013\n",
      "Epoch 30/30\n",
      "36720/36720 [==============================] - 20s 540us/step - loss: 0.0903 - mean_absolute_error: 0.2012\n"
     ]
    }
   ],
   "source": [
    "history5 = model.fit(X_train, y_train,\n",
    "          batch_size=128, epochs=30)"
   ]
  },
  {
   "cell_type": "code",
   "execution_count": 41,
   "metadata": {},
   "outputs": [],
   "source": [
    "model.save(\"S_orig_32_4layers_with_dropout.h5\")"
   ]
  },
  {
   "cell_type": "code",
   "execution_count": 42,
   "metadata": {},
   "outputs": [
    {
     "data": {
      "image/png": "[encoded data removed]",
      "text/plain": [
       "<matplotlib.figure.Figure at 0x7f5c95dbae80>"
      ]
     },
     "metadata": {},
     "output_type": "display_data"
    },
    {
     "data": {
      "image/png": "[encoded data removed]",
      "text/plain": [
       "<matplotlib.figure.Figure at 0x7f5c95dbaf60>"
      ]
     },
     "metadata": {},
     "output_type": "display_data"
    }
   ],
   "source": [
    "mae = history5.history['mean_absolute_error']\n",
    "#val_mae = history5.history['val_mean_absolute_error']\n",
    "loss = history5.history['loss']\n",
    "#val_loss = history5.history['val_loss']\n",
    "epochs = range(1, len(mae) + 1)\n",
    "\n",
    "plt.plot(epochs, mae, 'bo', label='Training mae')\n",
    "#plt.plot(epochs, val_mae, 'b', label='Validation mae')\n",
    "plt.title('Training MAE')\n",
    "plt.legend()\n",
    "plt.figure()\n",
    "\n",
    "plt.plot(epochs, loss, 'bo', label='Training loss')\n",
    "#plt.plot(epochs, val_loss, 'b', label='Validation loss')\n",
    "plt.title('Training loss')\n",
    "plt.legend()\n",
    "plt.show()"
   ]
  },
  {
   "cell_type": "code",
   "execution_count": 43,
   "metadata": {},
   "outputs": [],
   "source": [
    "def build_model5():\n",
    "    model = models.Sequential()\n",
    "    model.add(layers.Dense(32, activation = 'relu', input_shape=(None,200)))\n",
    "    model.add(layers.Dropout(0.3))\n",
    "    model.add(layers.Dense(32, activation = 'relu'))\n",
    "    model.add(layers.Dropout(0.3))\n",
    "    model.add(layers.Dense(6))\n",
    "    model.compile(optimizer='rmsprop',\n",
    "                 loss='mse',\n",
    "                 metrics=['mae'])\n",
    "    return model"
   ]
  },
  {
   "cell_type": "code",
   "execution_count": 44,
   "metadata": {},
   "outputs": [
    {
     "name": "stdout",
     "output_type": "stream",
     "text": [
      "_________________________________________________________________\n",
      "Layer (type)                 Output Shape              Param #   \n",
      "=================================================================\n",
      "dense_16 (Dense)             (None, None, 32)          6432      \n",
      "_________________________________________________________________\n",
      "dropout_4 (Dropout)          (None, None, 32)          0         \n",
      "_________________________________________________________________\n",
      "dense_17 (Dense)             (None, None, 32)          1056      \n",
      "_________________________________________________________________\n",
      "dropout_5 (Dropout)          (None, None, 32)          0         \n",
      "_________________________________________________________________\n",
      "dense_18 (Dense)             (None, None, 6)           198       \n",
      "=================================================================\n",
      "Total params: 7,686\n",
      "Trainable params: 7,686\n",
      "Non-trainable params: 0\n",
      "_________________________________________________________________\n"
     ]
    }
   ],
   "source": [
    "model = build_model5()\n",
    "model.summary()"
   ]
  },
  {
   "cell_type": "code",
   "execution_count": 45,
   "metadata": {},
   "outputs": [
    {
     "name": "stdout",
     "output_type": "stream",
     "text": [
      "Epoch 1/30\n",
      "36720/36720 [==============================] - 16s 440us/step - loss: 0.1357 - mean_absolute_error: 0.2598\n",
      "Epoch 2/30\n",
      "36720/36720 [==============================] - 16s 439us/step - loss: 0.0947 - mean_absolute_error: 0.2111\n",
      "Epoch 3/30\n",
      "36720/36720 [==============================] - 16s 425us/step - loss: 0.0930 - mean_absolute_error: 0.2071\n",
      "Epoch 4/30\n",
      "36720/36720 [==============================] - 15s 422us/step - loss: 0.0922 - mean_absolute_error: 0.2051\n",
      "Epoch 5/30\n",
      "36720/36720 [==============================] - 15s 404us/step - loss: 0.0918 - mean_absolute_error: 0.2039\n",
      "Epoch 6/30\n",
      "36720/36720 [==============================] - 15s 414us/step - loss: 0.0915 - mean_absolute_error: 0.2033\n",
      "Epoch 7/30\n",
      "36720/36720 [==============================] - 14s 393us/step - loss: 0.0913 - mean_absolute_error: 0.2028\n",
      "Epoch 8/30\n",
      "36720/36720 [==============================] - 14s 392us/step - loss: 0.0911 - mean_absolute_error: 0.2026\n",
      "Epoch 9/30\n",
      "36720/36720 [==============================] - 15s 402us/step - loss: 0.0911 - mean_absolute_error: 0.2025\n",
      "Epoch 10/30\n",
      "36720/36720 [==============================] - 14s 388us/step - loss: 0.0910 - mean_absolute_error: 0.2024\n",
      "Epoch 11/30\n",
      "36720/36720 [==============================] - 14s 393us/step - loss: 0.0909 - mean_absolute_error: 0.2022\n",
      "Epoch 12/30\n",
      "36720/36720 [==============================] - 15s 398us/step - loss: 0.0909 - mean_absolute_error: 0.2020\n",
      "Epoch 13/30\n",
      "36720/36720 [==============================] - 15s 396us/step - loss: 0.0908 - mean_absolute_error: 0.2021\n",
      "Epoch 14/30\n",
      "36720/36720 [==============================] - 15s 399us/step - loss: 0.0908 - mean_absolute_error: 0.2020\n",
      "Epoch 15/30\n",
      "36720/36720 [==============================] - 15s 399us/step - loss: 0.0908 - mean_absolute_error: 0.2019\n",
      "Epoch 16/30\n",
      "36720/36720 [==============================] - 15s 396us/step - loss: 0.0908 - mean_absolute_error: 0.2019\n",
      "Epoch 17/30\n",
      "36720/36720 [==============================] - 14s 394us/step - loss: 0.0908 - mean_absolute_error: 0.2018\n",
      "Epoch 18/30\n",
      "36720/36720 [==============================] - 14s 391us/step - loss: 0.0908 - mean_absolute_error: 0.2018\n",
      "Epoch 19/30\n",
      "36720/36720 [==============================] - 14s 392us/step - loss: 0.0907 - mean_absolute_error: 0.2018\n",
      "Epoch 20/30\n",
      "36720/36720 [==============================] - 15s 396us/step - loss: 0.0907 - mean_absolute_error: 0.2018\n",
      "Epoch 21/30\n",
      "36720/36720 [==============================] - 14s 393us/step - loss: 0.0907 - mean_absolute_error: 0.2018\n",
      "Epoch 22/30\n",
      "36720/36720 [==============================] - 14s 391us/step - loss: 0.0907 - mean_absolute_error: 0.2017\n",
      "Epoch 23/30\n",
      "36720/36720 [==============================] - 14s 392us/step - loss: 0.0907 - mean_absolute_error: 0.2018\n",
      "Epoch 24/30\n",
      "36720/36720 [==============================] - 15s 396us/step - loss: 0.0907 - mean_absolute_error: 0.2016\n",
      "Epoch 25/30\n",
      "36720/36720 [==============================] - 15s 399us/step - loss: 0.0907 - mean_absolute_error: 0.2017\n",
      "Epoch 26/30\n",
      "36720/36720 [==============================] - 14s 389us/step - loss: 0.0907 - mean_absolute_error: 0.2017\n",
      "Epoch 27/30\n",
      "36720/36720 [==============================] - 14s 394us/step - loss: 0.0907 - mean_absolute_error: 0.2018\n",
      "Epoch 28/30\n",
      "36720/36720 [==============================] - 14s 395us/step - loss: 0.0907 - mean_absolute_error: 0.2016\n",
      "Epoch 29/30\n",
      "36720/36720 [==============================] - 14s 391us/step - loss: 0.0906 - mean_absolute_error: 0.2017\n",
      "Epoch 30/30\n",
      "36720/36720 [==============================] - 14s 391us/step - loss: 0.0906 - mean_absolute_error: 0.2017\n"
     ]
    }
   ],
   "source": [
    "history6 = model.fit(X_train, y_train,\n",
    "          batch_size=128, epochs=30)"
   ]
  },
  {
   "cell_type": "code",
   "execution_count": 46,
   "metadata": {},
   "outputs": [],
   "source": [
    "model.save(\"S_orig_32_2layers_with_dropout.h5\")"
   ]
  },
  {
   "cell_type": "code",
   "execution_count": 47,
   "metadata": {},
   "outputs": [
    {
     "data": {
      "image/png": "[encoded data removed]",
      "text/plain": [
       "<matplotlib.figure.Figure at 0x7f5c80bc6518>"
      ]
     },
     "metadata": {},
     "output_type": "display_data"
    },
    {
     "data": {
      "image/png": "[encoded data removed]",
      "text/plain": [
       "<matplotlib.figure.Figure at 0x7f5c80bc64e0>"
      ]
     },
     "metadata": {},
     "output_type": "display_data"
    }
   ],
   "source": [
    "mae = history6.history['mean_absolute_error']\n",
    "#val_mae = history6.history['val_mean_absolute_error']\n",
    "loss = history6.history['loss']\n",
    "#val_loss = history6.history['val_loss']\n",
    "epochs = range(1, len(mae) + 1)\n",
    "\n",
    "plt.plot(epochs, mae, 'bo', label='Training mae')\n",
    "#plt.plot(epochs, val_mae, 'b', label='Validation mae')\n",
    "plt.title('Training MAE')\n",
    "plt.legend()\n",
    "plt.figure()\n",
    "\n",
    "plt.plot(epochs, loss, 'bo', label='Training loss')\n",
    "#plt.plot(epochs, val_loss, 'b', label='Validation loss')\n",
    "plt.title('Training loss')\n",
    "plt.legend()\n",
    "plt.show()"
   ]
  },
  {
   "cell_type": "code",
   "execution_count": null,
   "metadata": {},
   "outputs": [],
   "source": []
  },
  {
   "cell_type": "code",
   "execution_count": null,
   "metadata": {},
   "outputs": [],
   "source": []
  }
 ],
 "metadata": {
  "kernelspec": {
   "display_name": "Python 3",
   "language": "python",
   "name": "python3"
  },
  "language_info": {
   "codemirror_mode": {
    "name": "ipython",
    "version": 3
   },
   "file_extension": ".py",
   "mimetype": "text/x-python",
   "name": "python",
   "nbconvert_exporter": "python",
   "pygments_lexer": "ipython3",
   "version": "3.6.4"
  }
 },
 "nbformat": 4,
 "nbformat_minor": 2
}
